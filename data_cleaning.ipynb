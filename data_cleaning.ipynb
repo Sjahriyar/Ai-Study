{
 "cells": [
  {
   "cell_type": "markdown",
   "metadata": {},
   "source": [
    "# Data Cleaning"
   ]
  },
  {
   "cell_type": "markdown",
   "metadata": {},
   "source": [
    "<a id=\"data_normalizing\"></a>\n",
    "## Data Normalizing"
   ]
  },
  {
   "cell_type": "markdown",
   "metadata": {},
   "source": [
    "Normalization is scaling the data to be analyzed to a specific range such as [0.0, 1.0] to provide better results."
   ]
  },
  {
   "cell_type": "markdown",
   "metadata": {},
   "source": [
    "Data normalization is a vital pre-processing, mapping, and scaling method that helps forecasting and prediction models become more accurate. The current data range is transformed into a new, standardized range using this method. Normalization is extremely important when it comes to bringing disparate prediction and forecasting techniques into harmony. Data normalization improves the consistency and comparability of different predictive models by standardizing the range of independent variables or features within a dataset, leading to more steady and dependable results."
   ]
  },
  {
   "cell_type": "markdown",
   "metadata": {},
   "source": [
    "### **Some common approaches:**\n",
    "\n",
    "1.\tMin-Max Scaling (Rescaling)\n",
    "\n",
    "\t•\tFormula:\n",
    "    $X{\\prime} = \\frac{X - X_{\\min}}{X_{\\max} - X_{\\min}}$\n",
    "\n",
    "\t•\tScales data between 0 and 1 (or any custom range).\n",
    "\n",
    "\t•\tSensitive to outliers.\n",
    "\n",
    "\n",
    "2.\tZ-Score Normalization (Standardization)\n",
    "\n",
    "\t•\tFormula:\n",
    "\n",
    "    $X{\\prime} = \\frac{X - \\mu}{\\sigma}$\n",
    "\n",
    "\t•\tCenters data around mean = 0 with std deviation = 1.\n",
    "\n",
    "\t•\tWorks well when data has a normal distribution.\n",
    "\n",
    "\n",
    "\n",
    "3.\tRobust Scaling (Median & IQR-based)\n",
    "\n",
    "\t•\tFormula: \n",
    "  \n",
    "    $X{\\prime} = \\frac{X - \\text{median}(X)}{\\text{IQR}(X)}$\n",
    "\n",
    "\t•\tUses median and interquartile range (IQR) to make it robust against outliers.\n",
    "\n",
    "\n",
    "4.\tLog Transformation\n",
    "\n",
    "\t•\tFormula:\n",
    "\n",
    "    $X{\\prime} = \\log(X + c)$\n",
    "\n",
    "\t•\tHelps handle skewed distributions by compressing large values.\n",
    "\n",
    "5.\tMax Abs Scaling\n",
    "\n",
    "\t•\tFormula:\n",
    "\n",
    "    $X{\\prime} = \\frac{X}{|X_{\\max}|}$\n",
    "\n",
    "\t•\tScales data to [-1, 1] without shifting the mean (useful for sparse data).\n",
    "\n",
    "6.\tL2 Normalization (Unit Vector Scaling)\n",
    "\n",
    "\t•\tFormula:\n",
    "\n",
    "    $X{\\prime} = \\frac{X}{||X||_2}$\n",
    "\n",
    "\t•\tScales each data point to have unit norm, useful for text and image data.\n",
    "\n",
    "The choice depends on the dataset and model type."
   ]
  },
  {
   "cell_type": "markdown",
   "metadata": {},
   "source": []
  }
 ],
 "metadata": {
  "language_info": {
   "name": "python"
  }
 },
 "nbformat": 4,
 "nbformat_minor": 2
}
